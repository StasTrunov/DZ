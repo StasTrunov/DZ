{
 "cells": [
  {
   "cell_type": "code",
   "execution_count": null,
   "metadata": {},
   "outputs": [],
   "source": [
    "a = int(input('Введіть перше число')) \n",
    "b = int(input('Введіть друге число'))\n",
    "\n",
    "sum = 0 \n",
    "\n",
    "for i in range(a, b + 1) : \n",
    "    \n",
    "    sum += i**2 \n",
    "\n",
    "\n",
    "print(sum)"
   ]
  },
  {
   "cell_type": "code",
   "execution_count": null,
   "metadata": {},
   "outputs": [],
   "source": [
    "string = input('Введіть строку')\n",
    "symbol = input('Введіть символ')\n",
    "count = 0\n",
    "\n",
    "for i in range(len(string)):\n",
    "    if symbol == string[i] :\n",
    "        count += 1\n",
    "\n",
    "print('кількість входження в строку даного символу',count)\n"
   ]
  },
  {
   "cell_type": "code",
   "execution_count": null,
   "metadata": {},
   "outputs": [],
   "source": [
    "types_places = ['Egypt', 'Turkey', 'Dominican Republic','Azov sea']\n",
    "dreams = input('Куда плануєте ?')\n",
    "\n",
    "for place in types_places:\n",
    "    if dreams == place:\n",
    "        print('Ви вже бували в цьому місті')\n",
    "        break\n",
    "else:\n",
    "    print('У вас це буде перша подорож до цього міста')"
   ]
  }
 ],
 "metadata": {
  "language_info": {
   "name": "python"
  },
  "orig_nbformat": 4
 },
 "nbformat": 4,
 "nbformat_minor": 2
}
