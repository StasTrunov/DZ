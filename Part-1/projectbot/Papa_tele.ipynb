{
 "cells": [
  {
   "cell_type": "code",
   "execution_count": null,
   "metadata": {},
   "outputs": [],
   "source": [
    "\n",
    "from telegram import InlineKeyboardButton, InlineKeyboardMarkup, Update\n",
    "from telegram.ext import (\n",
    "    Updater,\n",
    "    CallbackQueryHandler,\n",
    "    CommandHandler,\n",
    "    ConversationHandler,\n",
    "    CallbackContext, \n",
    "    MessageHandler, \n",
    "    Filters\n",
    ")\n",
    "\n",
    "\n",
    "     \n",
    "\n",
    "def main() -> None:\n",
    "    \"\"\"Run the bot.\"\"\"\n",
    "    updater = Updater(token='5365655975:AAF7UvbaTKd1rDUnakCsvCP9lJsTYkwXrwA')\n",
    "    dispatcher = updater.dispatcher\n",
    "\n",
    "    #start_handler = CommandHandler('start', start)\n",
    "    #dispatcher.add_handler(start_handler)\n",
    " \n",
    "    #user_handler = ConversationHandler(\n",
    "    #    entry_points = [CommandHandler('start_game', start_game)],\n",
    "    #    states={\n",
    "    #        1:  [MessageHandler(Filters.text & (~ Filters.command), city_play)],\n",
    "    #    },\n",
    "    #    fallbacks=[CommandHandler(\"stop\", stop)]\n",
    "    #)    \n",
    "\n",
    "\n",
    "    dispatcher.add_handler(CommandHandler(\"start\", start))\n",
    "    dispatcher.add_handler(CommandHandler(\"menu\", menu))\n",
    "    dispatcher.add_handler(CommandHandler(\"help\", help_command))\n",
    "    dispatcher.add_handler(CommandHandler(\"cancel\", cancel))\n",
    "    dispatcher.add_handler(CommandHandler(\"search_name\", search_name))\n",
    "    dispatcher.add_handler(CommandHandler(\"search_adress\", search_adress))\n",
    "    dispatcher.add_handler(CommandHandler(\"search_phone\", search_phone))\n",
    "    dispatcher.add_handler(CallbackQueryHandler(User_search, pattern=\"User_search\"))\n",
    "\n",
    "    branch_user_handler = ConversationHandler(\n",
    "        entry_points = [CallbackQueryHandler(user_name, 'user_info')], \n",
    "        states={\n",
    "            STEP_TWO:   [MessageHandler(Filters.text & (~ Filters.command), user_adress)],\n",
    "            STEP_THREE: [MessageHandler(Filters.text & (~ Filters.command), user_phone)],\n",
    "            STEP_FOUR:  [MessageHandler(Filters.text & (~ Filters.command), user_finish)]\n",
    "        }, \n",
    "        fallbacks=[CommandHandler(\"stop\", cancel)]\n",
    "    )\n",
    "\n",
    "    dispatcher.add_handler(branch_user_handler)\n",
    "\n",
    "    updater.start_polling()\n",
    "    updater.idle()\n",
    "\n",
    "\n",
    "if __name__ == \"__main__\":\n",
    "    main()"
   ]
  }
 ],
 "metadata": {
  "kernelspec": {
   "display_name": "Python 3.10.4 64-bit",
   "language": "python",
   "name": "python3"
  },
  "language_info": {
   "name": "python",
   "version": "3.10.4"
  },
  "orig_nbformat": 4,
  "vscode": {
   "interpreter": {
    "hash": "e593ac106456af50ce7af38f9671c411b49d6cd90f9b885e167f0f594e09038c"
   }
  }
 },
 "nbformat": 4,
 "nbformat_minor": 2
}
