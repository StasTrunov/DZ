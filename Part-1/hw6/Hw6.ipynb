{
 "cells": [
  {
   "cell_type": "code",
   "execution_count": 28,
   "metadata": {},
   "outputs": [
    {
     "name": "stdout",
     "output_type": "stream",
     "text": [
      "The word \" Kravchenko \" has a max 10 chars\n"
     ]
    }
   ],
   "source": [
    "sentence = input('Input string')\n",
    "s = sentence.split()\n",
    "s_count = list()\n",
    "for i in s:\n",
    "    s_count.append(len(i))\n",
    "for i in range(len(s_count)):\n",
    "  if s_count[i] == max(s_count):\n",
    "    print ('The word \"', s[i], '\" has a max', s_count[i], 'chars')\n",
    "\n",
    "\n"
   ]
  },
  {
   "cell_type": "code",
   "execution_count": 52,
   "metadata": {},
   "outputs": [
    {
     "name": "stdout",
     "output_type": "stream",
     "text": [
      "Слово \" Александр \" найбільше в строкі, та має в своєму складі 9 символів\n",
      "Слово \" Кравченко \" найбільше в строкі, та має в своєму складі 9 символів\n"
     ]
    }
   ],
   "source": [
    "sentence = input('Введіть строку')\n",
    "s = sentence.split(' ')\n",
    "s_count = list()\n",
    "for i in s:\n",
    "    s_count.append(i.find(i[-1])+1)\n",
    "for i in range(len(s)):\n",
    "  if s_count[i] == max(s_count):\n",
    "   print ('Слово \"', s[i], '\" найбільше в строкі, та має в своєму складі', s_count[i], 'символів')"
   ]
  }
 ],
 "metadata": {
  "interpreter": {
   "hash": "e593ac106456af50ce7af38f9671c411b49d6cd90f9b885e167f0f594e09038c"
  },
  "kernelspec": {
   "display_name": "Python 3.10.4 64-bit",
   "language": "python",
   "name": "python3"
  },
  "language_info": {
   "codemirror_mode": {
    "name": "ipython",
    "version": 3
   },
   "file_extension": ".py",
   "mimetype": "text/x-python",
   "name": "python",
   "nbconvert_exporter": "python",
   "pygments_lexer": "ipython3",
   "version": "3.10.4"
  },
  "orig_nbformat": 4
 },
 "nbformat": 4,
 "nbformat_minor": 2
}
