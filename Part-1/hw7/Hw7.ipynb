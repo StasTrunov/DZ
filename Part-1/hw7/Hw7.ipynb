{
 "cells": [
  {
   "cell_type": "code",
   "execution_count": 85,
   "metadata": {},
   "outputs": [
    {
     "name": "stdout",
     "output_type": "stream",
     "text": [
      "{'Stas': 4, 'Andrew': 5, 'Denis': 4}\n"
     ]
    }
   ],
   "source": [
    "students = {\n",
    "    'Stas'  : 4,\n",
    "    'Dima'  : 2,\n",
    "    'Danya' : 3,\n",
    "    'David' : 3,\n",
    "    'Andrew': 5,\n",
    "    'Denis' : 4\n",
    "}\n",
    "best_students = {}\n",
    "for name in students:\n",
    "    if students[name] == 4 or students[name] == 5:\n",
    "        best_students[name] = students[name] \n",
    "print (best_students)"
   ]
  },
  {
   "cell_type": "code",
   "execution_count": 96,
   "metadata": {},
   "outputs": [
    {
     "name": "stdout",
     "output_type": "stream",
     "text": [
      "Temperature in Kiev 28 C\n",
      "Average temperature in all cities = 28 C\n",
      "The lowest temperature in Prague = 21 C\n"
     ]
    }
   ],
   "source": [
    "cities = {\n",
    "    'Kiev':     28,\n",
    "    'Berlin':   25,\n",
    "    'Warsaw':   23,\n",
    "    'Prague':   21,\n",
    "    'Sofia':    34,\n",
    "    'Istanbul': 38\n",
    "}\n",
    "city_input = input ('Input the city:')\n",
    "for city in cities:\n",
    "    if city == city_input:\n",
    "        print ('Temperature in', city, cities[city], 'C')\n",
    "\n",
    "count = 0\n",
    "temp = 0\n",
    "for city in cities:\n",
    "    temp += cities[city]\n",
    "    count += 1\n",
    "print ('Average temperature in all cities =', int (temp/count), 'C')\n",
    "\n",
    "city_temp_lowest = ''\n",
    "temp_lowest = 100\n",
    "for city in cities:\n",
    "    if temp_lowest > cities[city]:\n",
    "        temp_lowest = cities[city]\n",
    "        city_temp_lowest = city\n",
    "print ('The lowest temperature in', city_temp_lowest, '=', temp_lowest, 'C')\n"
   ]
  }
 ],
 "metadata": {
  "kernelspec": {
   "display_name": "Python 3.10.4 64-bit",
   "language": "python",
   "name": "python3"
  },
  "language_info": {
   "codemirror_mode": {
    "name": "ipython",
    "version": 3
   },
   "file_extension": ".py",
   "mimetype": "text/x-python",
   "name": "python",
   "nbconvert_exporter": "python",
   "pygments_lexer": "ipython3",
   "version": "3.10.4"
  },
  "orig_nbformat": 4,
  "vscode": {
   "interpreter": {
    "hash": "e593ac106456af50ce7af38f9671c411b49d6cd90f9b885e167f0f594e09038c"
   }
  }
 },
 "nbformat": 4,
 "nbformat_minor": 2
}
