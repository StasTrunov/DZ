{
 "cells": [
  {
   "cell_type": "code",
   "execution_count": 4,
   "metadata": {},
   "outputs": [],
   "source": [
    "data_base_name = 'stas.sqlite3.data_base'"
   ]
  },
  {
   "cell_type": "code",
   "execution_count": 6,
   "metadata": {},
   "outputs": [],
   "source": [
    "import sqlite3\n",
    "connection = sqlite3.connect(data_base_name)\n",
    "\n",
    "cur = connection.cursor()\n",
    "\n",
    "cur.execute('''CREATE TABLE IF NOT EXISTS pupils\n",
    "               (id text, name text, email text, age text, phone text)''')\n",
    "\n",
    "\n",
    "\n",
    "try:\n",
    "    cur.execute(\"INSERT INTO pupils VALUES ('1', 'Stanislav Trunov', 'stanislav@test.ua', 13, 0682549449)\")\n",
    "    cur.execute(\"INSERT INTO pupils VALUES ('2', 'Denis Derivedmed', 'denis@test.com', 16, 0975960434)\")\n",
    "    cur.execute(\"INSERT INTO pupils VALUES ('3', 'Mark Melnyk', 'markmeln@gmail.com', 14, 0697804567)\")\n",
    "    cur.execute(\"INSERT INTO pupils VALUES ('4', 'Maksim Herbrant', 'maksim@gmail.ua', 15, 0679495359)\")\n",
    "\n",
    "\n",
    "    connection.commit()\n",
    "finally:\n",
    "    connection.close()"
   ]
  },
  {
   "cell_type": "code",
   "execution_count": 9,
   "metadata": {},
   "outputs": [
    {
     "name": "stdout",
     "output_type": "stream",
     "text": [
      "('1', 'Stanislav Trunov', 'stanislav@test.ua', '13', '682549449')\n",
      "('2', 'Denis Derivedmed', 'denis@test.com', '16', '975960434')\n",
      "('3', 'Mark Melnyk', 'markmeln@gmail.com', '14', '697804567')\n",
      "('4', 'Maksim Herbrant', 'maksim@gmail.ua', '15', '679495359')\n"
     ]
    }
   ],
   "source": [
    "import sqlite3\n",
    "connnection = sqlite3.connect(data_base_name)\n",
    "cursor = connnection.cursor()\n",
    "try:\n",
    "    cursor.execute('SELECT * FROM pupils')\n",
    "    print(cursor.fetchone())    \n",
    "    print(cursor.fetchone())    \n",
    "    print(cursor.fetchone()) \n",
    "    print(cursor.fetchone())    \n",
    "\n",
    "finally:\n",
    "    connnection.close()"
   ]
  },
  {
   "cell_type": "code",
   "execution_count": 25,
   "metadata": {},
   "outputs": [
    {
     "name": "stdout",
     "output_type": "stream",
     "text": [
      "('4', 'Maksim Herbrant', 'maksim@gmail.ua', '15', '679495359')\n",
      "('2', 'Denis Derivedmed', 'denis@test.com', '16', '975960434')\n"
     ]
    }
   ],
   "source": [
    "import sqlite3\n",
    "connnection = sqlite3.connect(data_base_name)\n",
    "cursor = connnection.cursor()\n",
    "try:\n",
    "    cursor.execute('SELECT * FROM pupils WHERE age > 14 ORDER BY age')\n",
    "    print(cursor.fetchone()) \n",
    "    print(cursor.fetchone())    \n",
    "\n",
    "finally:\n",
    "    connnection.close()"
   ]
  },
  {
   "cell_type": "code",
   "execution_count": 38,
   "metadata": {},
   "outputs": [
    {
     "name": "stdout",
     "output_type": "stream",
     "text": [
      "('1', 'Stanislav Trunov', 'stanislav@test.ua', '13', '682549449')\n"
     ]
    }
   ],
   "source": [
    "import sqlite3\n",
    "connnection = sqlite3.connect(data_base_name)\n",
    "cursor = connnection.cursor()\n",
    "try: \n",
    "    cursor.execute('SELECT * FROM pupils WHERE age = 13  ORDER BY age')\n",
    "    cursor.execute('SELECT * FROM pupils WHERE id =  1 ORDER BY id')\n",
    "    print(cursor.fetchone())    \n",
    "finally:\n",
    "    connnection.close()"
   ]
  }
 ],
 "metadata": {
  "kernelspec": {
   "display_name": "Python 3.10.4 64-bit",
   "language": "python",
   "name": "python3"
  },
  "language_info": {
   "codemirror_mode": {
    "name": "ipython",
    "version": 3
   },
   "file_extension": ".py",
   "mimetype": "text/x-python",
   "name": "python",
   "nbconvert_exporter": "python",
   "pygments_lexer": "ipython3",
   "version": "3.10.4"
  },
  "orig_nbformat": 4,
  "vscode": {
   "interpreter": {
    "hash": "e593ac106456af50ce7af38f9671c411b49d6cd90f9b885e167f0f594e09038c"
   }
  }
 },
 "nbformat": 4,
 "nbformat_minor": 2
}
