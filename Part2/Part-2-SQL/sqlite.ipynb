{
 "cells": [
  {
   "cell_type": "code",
   "execution_count": 6,
   "metadata": {},
   "outputs": [],
   "source": [
    "db_name = 'sqlite-api2.db'"
   ]
  },
  {
   "cell_type": "code",
   "execution_count": 8,
   "metadata": {},
   "outputs": [],
   "source": [
    "import sqlite3\n",
    "connection = sqlite3.connect(db_name)\n",
    "\n",
    "cur = connection.cursor()\n",
    "\n",
    "\n",
    "# Create table\n",
    "cur.execute('''CREATE TABLE IF NOT EXISTS stocks\n",
    "               (date text, trans text, symbol text, qty real, price real)''')\n",
    "\n",
    "\n",
    "try:\n",
    "    # Insert a row of data\n",
    "    cur.execute(\"INSERT INTO stocks VALUES ('2006-01-05', 'BUY', 'RHAT', 100, 35.14)\")\n",
    "    cur.execute(\"INSERT INTO stocks VALUES ('2006-03-28', 'BUY', 'IBM', 1000, 45.0)\")\n",
    "    cur.execute(\"INSERT INTO stocks VALUES ('2006-04-06', 'SELL', 'IBM', 500, 53.0)\")\n",
    "    cur.execute(\"INSERT INTO stocks VALUES ('2006-04-05', 'BUY', 'MSFT', 1000, 72.0)\")\n",
    "\n",
    "\n",
    "    # Save (commit) the changes\n",
    "    connection.commit()\n",
    "finally:\n",
    "    # We can also close the connection if we are done with it.\n",
    "    # Just be sure any changes have been committed or they will be lost.\n",
    "    connection.close()"
   ]
  },
  {
   "cell_type": "code",
   "execution_count": 16,
   "metadata": {},
   "outputs": [
    {
     "name": "stdout",
     "output_type": "stream",
     "text": [
      "('2006-04-05', 'BUY', 'MSFT', 1000.0, 72.0)\n",
      "('2006-04-05', 'BUY', 'MSFT', 1000.0, 72.0)\n"
     ]
    }
   ],
   "source": [
    "import sqlite3\n",
    "connnection = sqlite3.connect(db_name)\n",
    "cursor = connnection.cursor()\n",
    "try:\n",
    "    stocks = cursor.execute('SELECT * FROM stocks ORDER BY price DESC LIMIT 2')\n",
    "    #print(type(stocks))\n",
    "    for row in stocks:\n",
    "        #print(type(row))\n",
    "        print(row)\n",
    "\n",
    "finally:\n",
    "    connnection.close()"
   ]
  },
  {
   "cell_type": "code",
   "execution_count": 17,
   "metadata": {},
   "outputs": [
    {
     "name": "stdout",
     "output_type": "stream",
     "text": [
      "('2006-01-05', 'BUY', 'RHAT', 100.0, 35.14)\n",
      "('2006-01-05', 'BUY', 'RHAT', 100.0, 35.14)\n",
      "('2006-03-28', 'BUY', 'IBM', 1000.0, 45.0)\n"
     ]
    }
   ],
   "source": [
    "import sqlite3\n",
    "connnection = sqlite3.connect(db_name)\n",
    "cursor = connnection.cursor()\n",
    "try:\n",
    "    cursor.execute('SELECT * FROM stocks ORDER BY price')\n",
    "    print(cursor.fetchone())    \n",
    "    print(cursor.fetchone())    \n",
    "    print(cursor.fetchone())    \n",
    "\n",
    "finally:\n",
    "    connnection.close()"
   ]
  },
  {
   "cell_type": "code",
   "execution_count": 22,
   "metadata": {},
   "outputs": [
    {
     "name": "stdout",
     "output_type": "stream",
     "text": [
      "<class 'list'>\n",
      "[('2006-01-05', 'BUY', 'RHAT', 100.0, 35.14), ('2006-01-05', 'BUY', 'RHAT', 100.0, 35.14), ('2006-03-28', 'BUY', 'IBM', 1000.0, 45.0), ('2006-03-28', 'BUY', 'IBM', 1000.0, 45.0)]\n"
     ]
    }
   ],
   "source": [
    "import sqlite3\n",
    "connnection = sqlite3.connect(db_name)\n",
    "cursor = connnection.cursor()\n",
    "try:\n",
    "    cursor.execute('SELECT * FROM stocks WHERE price < 50 ORDER BY price')\n",
    "    next_row = cursor.fetchmany(6)\n",
    "    print(type(next_row))\n",
    "    print(next_row)\n",
    "\n",
    "finally:\n",
    "    connnection.close()"
   ]
  },
  {
   "cell_type": "code",
   "execution_count": 23,
   "metadata": {},
   "outputs": [
    {
     "name": "stdout",
     "output_type": "stream",
     "text": [
      "('2006-01-05', 'BUY', 'RHAT', 100.0, 35.14)\n"
     ]
    }
   ],
   "source": [
    "import sqlite3\n",
    "connnection = sqlite3.connect(db_name)\n",
    "cursor = connnection.cursor()\n",
    "try:\n",
    "    symbol = 'RHAT'\n",
    "    cursor.execute(\"SELECT * FROM stocks WHERE symbol = '%s'\" % symbol)\n",
    "    print(cursor.fetchone())\n",
    "finally:\n",
    "    connnection.close()"
   ]
  },
  {
   "cell_type": "code",
   "execution_count": 24,
   "metadata": {},
   "outputs": [
    {
     "name": "stdout",
     "output_type": "stream",
     "text": [
      "[('C', 1972)]\n"
     ]
    }
   ],
   "source": [
    "import sqlite3\n",
    "connnection = sqlite3.connect(db_name)\n",
    "cursor = connnection.cursor()\n",
    "try:\n",
    "    cursor.execute(\"CREATE TABLE IF NOT EXISTS lang (name, first_appeared)\")\n",
    "\n",
    "    # This is the qmark style:\n",
    "    cursor.execute(\"insert into lang values (?, ?)\", (\"C\", 1972))\n",
    "\n",
    "    # The qmark style used with executemany():\n",
    "    lang_list = [\n",
    "        (\"Fortran\", 1957),\n",
    "        (\"Python\", 1991),\n",
    "        (\"Go\", 2009),\n",
    "    ]\n",
    "\n",
    "    cursor.executemany(\"insert into lang values (?, ?)\", lang_list)\n",
    "\n",
    "    connnection.commit()\n",
    "\n",
    "    # And this is the named style:\n",
    "    cursor.execute(\"select * from lang where first_appeared=:year\", {\"year\": 1972, \"gender\": 1, \"city\": 'Lviv', })\n",
    "    print(cursor.fetchall())\n",
    "finally:\n",
    "    connnection.close()"
   ]
  }
 ],
 "metadata": {
  "kernelspec": {
   "display_name": "Python 3.10.4 64-bit",
   "language": "python",
   "name": "python3"
  },
  "language_info": {
   "codemirror_mode": {
    "name": "ipython",
    "version": 3
   },
   "file_extension": ".py",
   "mimetype": "text/x-python",
   "name": "python",
   "nbconvert_exporter": "python",
   "pygments_lexer": "ipython3",
   "version": "3.10.4"
  },
  "orig_nbformat": 4,
  "vscode": {
   "interpreter": {
    "hash": "e593ac106456af50ce7af38f9671c411b49d6cd90f9b885e167f0f594e09038c"
   }
  }
 },
 "nbformat": 4,
 "nbformat_minor": 2
}
