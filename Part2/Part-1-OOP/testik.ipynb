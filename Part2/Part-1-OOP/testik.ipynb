{
 "cells": [
  {
   "cell_type": "code",
   "execution_count": 1,
   "metadata": {},
   "outputs": [
    {
     "name": "stdout",
     "output_type": "stream",
     "text": [
      "['D2', 'F2', 'R2', \"L'\", \"R'\", 'B2', 'B', \"R'\", 'B', 'B2', 'R', 'B2', 'B', 'B']\n"
     ]
    }
   ],
   "source": [
    "from random import choices\n",
    "scrambl = [\"R\", \"R'\", \"R2\", \"L\", \"L'\", \"L2\", \"F\", \"F'\", \"F2\", \"D\", \"D'\", \"D2\", \"B\", \"B'\", \"B2\"]\n",
    "x = 0\n",
    "list_ = []\n",
    "while True:\n",
    "    for i in choices(scrambl):\n",
    "        list_.append(i)\n",
    "        x +=1\n",
    "    if x == 14:\n",
    "        break\n",
    "    \n",
    "print(list_)"
   ]
  },
  {
   "cell_type": "code",
   "execution_count": 2,
   "metadata": {},
   "outputs": [
    {
     "name": "stdout",
     "output_type": "stream",
     "text": [
      "0\n",
      "1\n",
      "2\n",
      "3\n",
      "4\n",
      "5\n",
      "6\n",
      "7\n",
      "8\n",
      "9\n"
     ]
    }
   ],
   "source": [
    "import time\n",
    "sec = 0\n",
    "while True:\n",
    "    print(sec)\n",
    "    time.sleep(1)\n",
    "    sec += 1\n",
    "    if sec == 10:\n",
    "        break\n"
   ]
  }
 ],
 "metadata": {
  "kernelspec": {
   "display_name": "Python 3.10.4 64-bit",
   "language": "python",
   "name": "python3"
  },
  "language_info": {
   "codemirror_mode": {
    "name": "ipython",
    "version": 3
   },
   "file_extension": ".py",
   "mimetype": "text/x-python",
   "name": "python",
   "nbconvert_exporter": "python",
   "pygments_lexer": "ipython3",
   "version": "3.10.4"
  },
  "orig_nbformat": 4,
  "vscode": {
   "interpreter": {
    "hash": "e593ac106456af50ce7af38f9671c411b49d6cd90f9b885e167f0f594e09038c"
   }
  }
 },
 "nbformat": 4,
 "nbformat_minor": 2
}
