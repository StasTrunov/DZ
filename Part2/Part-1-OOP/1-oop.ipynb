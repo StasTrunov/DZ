{
 "cells": [
  {
   "cell_type": "code",
   "execution_count": 1,
   "metadata": {},
   "outputs": [
    {
     "name": "stdout",
     "output_type": "stream",
     "text": [
      "operator\n",
      "Dmytro\n"
     ]
    }
   ],
   "source": [
    "class User:\n",
    "    login = 'Dmytro'\n",
    "    passw = ''\n",
    "    role = 'operator'\n",
    "    \n",
    "print(User.role)\n",
    "print(User.login)"
   ]
  },
  {
   "cell_type": "code",
   "execution_count": 2,
   "metadata": {},
   "outputs": [
    {
     "name": "stdout",
     "output_type": "stream",
     "text": [
      "admin\n",
      "operator\n"
     ]
    }
   ],
   "source": [
    "class User:\n",
    "    login = ''\n",
    "    passw = ''\n",
    "    role = 'operator'\n",
    "\n",
    "\n",
    "dkovalyuk = User()\n",
    "dkovalyuk.login = 'dmytro.kovalyuk'\n",
    "dkovalyuk.passw = '12345'\n",
    "dkovalyuk.role = 'admin'\n",
    "\n",
    "user_1 = User()\n",
    "user_1.login = 'user_1'\n",
    "user_1.passw = 'user_1_007'\n",
    "\n",
    "print(dkovalyuk.role)\n",
    "print(user_1.role)"
   ]
  },
  {
   "cell_type": "code",
   "execution_count": 3,
   "metadata": {},
   "outputs": [
    {
     "name": "stdout",
     "output_type": "stream",
     "text": [
      "Hi! I am Bob and I am 15 years old. I live in Lviv\n"
     ]
    }
   ],
   "source": [
    "class User:\n",
    "    name = 'UserName'\n",
    "    age = 15\n",
    "    region = 'Kyiv'\n",
    "\n",
    "    def print_info(self):\n",
    "        print(f'Hi! I am {self.name} and I am {self.age} years old. I live in {self.region}')\n",
    "\n",
    "    def set_age(self, age):\n",
    "        self.age = age\n",
    "\n",
    "    def change_region(self, new_region):\n",
    "        self.region = new_region\n",
    "\n",
    "\n",
    "bob = User()\n",
    "bob.name = 'Bob'\n",
    "bob.change_region('Lviv')\n",
    "bob.print_info()"
   ]
  },
  {
   "cell_type": "code",
   "execution_count": 4,
   "metadata": {},
   "outputs": [
    {
     "name": "stdout",
     "output_type": "stream",
     "text": [
      "120.09.22.233\n"
     ]
    }
   ],
   "source": [
    "class User:\n",
    "    login = ''\n",
    "    passw = ''\n",
    "    role = 'operator'\n",
    "\n",
    "dkovalyuk = User()\n",
    "dkovalyuk.ip = '120.09.22.233'\n",
    "print(dkovalyuk.ip)\n",
    "\n",
    "# dkovalyuk.roles = 'tester' \n",
    "\n",
    "# print(dkovalyuk.role)\n",
    "# print(dkovalyuk.roles)\n",
    "\n",
    "# admin = User()\n",
    "# print(admin.ip)"
   ]
  },
  {
   "cell_type": "code",
   "execution_count": 5,
   "metadata": {},
   "outputs": [
    {
     "name": "stdout",
     "output_type": "stream",
     "text": [
      "120.09.22\n",
      "120.09.22\n"
     ]
    },
    {
     "ename": "NameError",
     "evalue": "name 'dkovalyuk' is not defined",
     "output_type": "error",
     "traceback": [
      "\u001b[1;31m---------------------------------------------------------------------------\u001b[0m",
      "\u001b[1;31mNameError\u001b[0m                                 Traceback (most recent call last)",
      "\u001b[1;32mc:\\Users\\PC\\Desktop\\Python\\Part2\\Part-1-OOP\\1-oop.ipynb Ячейка 5\u001b[0m in \u001b[0;36m<cell line: 16>\u001b[1;34m()\u001b[0m\n\u001b[0;32m     <a href='vscode-notebook-cell:/c%3A/Users/PC/Desktop/Python/Part2/Part-1-OOP/1-oop.ipynb#W4sZmlsZQ%3D%3D?line=11'>12</a>\u001b[0m \u001b[39mprint\u001b[39m(dkovalyuk\u001b[39m.\u001b[39mip)\n\u001b[0;32m     <a href='vscode-notebook-cell:/c%3A/Users/PC/Desktop/Python/Part2/Part-1-OOP/1-oop.ipynb#W4sZmlsZQ%3D%3D?line=14'>15</a>\u001b[0m \u001b[39mdel\u001b[39;00m dkovalyuk\n\u001b[1;32m---> <a href='vscode-notebook-cell:/c%3A/Users/PC/Desktop/Python/Part2/Part-1-OOP/1-oop.ipynb#W4sZmlsZQ%3D%3D?line=15'>16</a>\u001b[0m \u001b[39mprint\u001b[39m(dkovalyuk\u001b[39m.\u001b[39mlogin)\n",
      "\u001b[1;31mNameError\u001b[0m: name 'dkovalyuk' is not defined"
     ]
    }
   ],
   "source": [
    "# Any attribute of an object can be deleted anytime, using the del statement\n",
    "class User:\n",
    "    login = ''\n",
    "    passw = ''\n",
    "    role = 'operator'\n",
    "\n",
    "dkovalyuk = User()\n",
    "dkovalyuk.ip = '120.09.22'\n",
    "print(dkovalyuk.ip)\n",
    "\n",
    "# del dkovalyuk.ip\n",
    "print(dkovalyuk.ip)\n",
    "\n",
    "\n",
    "del dkovalyuk\n",
    "print(dkovalyuk.login)"
   ]
  },
  {
   "cell_type": "code",
   "execution_count": 6,
   "metadata": {},
   "outputs": [
    {
     "data": {
      "text/plain": [
       "15"
      ]
     },
     "execution_count": 6,
     "metadata": {},
     "output_type": "execute_result"
    }
   ],
   "source": [
    "from collections import UserList\n",
    "\n",
    "class CountableList(UserList):\n",
    "    def sum(self):\n",
    "        return sum(map(lambda x: int(x), self.data))\n",
    "\n",
    "\n",
    "countable = CountableList([1, '2', 3, '4'])\n",
    "countable.append('5')\n",
    "countable.sum()"
   ]
  },
  {
   "cell_type": "code",
   "execution_count": 7,
   "metadata": {},
   "outputs": [
    {
     "data": {
      "text/plain": [
       "False"
      ]
     },
     "execution_count": 7,
     "metadata": {},
     "output_type": "execute_result"
    }
   ],
   "source": [
    "from collections import UserDict\n",
    "\n",
    "\n",
    "class ValueSearchableDict(UserDict):\n",
    "    def has_in_values(self, value):\n",
    "        return value in self.data.values()\n",
    "\n",
    "\n",
    "as_dict = ValueSearchableDict()\n",
    "as_dict['a'] = 1\n",
    "as_dict.has_in_values(1)    # True\n",
    "as_dict.has_in_values(2)    # False"
   ]
  }
 ],
 "metadata": {
  "kernelspec": {
   "display_name": "Python 3.10.4 64-bit",
   "language": "python",
   "name": "python3"
  },
  "language_info": {
   "codemirror_mode": {
    "name": "ipython",
    "version": 3
   },
   "file_extension": ".py",
   "mimetype": "text/x-python",
   "name": "python",
   "nbconvert_exporter": "python",
   "pygments_lexer": "ipython3",
   "version": "3.10.4"
  },
  "orig_nbformat": 4,
  "vscode": {
   "interpreter": {
    "hash": "e593ac106456af50ce7af38f9671c411b49d6cd90f9b885e167f0f594e09038c"
   }
  }
 },
 "nbformat": 4,
 "nbformat_minor": 2
}
