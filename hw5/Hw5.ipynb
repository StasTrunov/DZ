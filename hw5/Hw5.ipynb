{
 "cells": [
  {
   "cell_type": "code",
   "execution_count": 121,
   "metadata": {},
   "outputs": [
    {
     "name": "stdout",
     "output_type": "stream",
     "text": [
      "The letter \" t \" enters the your last name max 43 times\n"
     ]
    }
   ],
   "source": [
    "last_name = input('Please enter your last name:')\n",
    "last_name = last_name.lower()\n",
    "char = list()\n",
    "char_count = list()\n",
    "for i in last_name:\n",
    "  char.append(i)\n",
    "  char_count.append(last_name.count(i))\n",
    "  last_name = last_name.replace(i,'')\n",
    "for i in range(len(char_count)):\n",
    "  if char_count[i] == max(char_count):\n",
    "    print ('The letter \"', char[i], '\" enters the your last name max', char_count[i], 'times')\n"
   ]
  },
  {
   "cell_type": "code",
   "execution_count": 119,
   "metadata": {},
   "outputs": [
    {
     "name": "stdout",
     "output_type": "stream",
     "text": [
      "staspapamama\n"
     ]
    }
   ],
   "source": [
    "\n",
    "string = input('Input the string')\n",
    "delete= '0123456789'\n",
    "for i in delete:\n",
    "    string = string.replace(i,'')\n",
    "print(string)\n",
    "     \n"
   ]
  },
  {
   "cell_type": "code",
   "execution_count": 186,
   "metadata": {},
   "outputs": [
    {
     "name": "stdout",
     "output_type": "stream",
     "text": [
      "+180677743900\n",
      "-380444445677\n",
      "+300997654445\n"
     ]
    }
   ],
   "source": [
    "numbers = ['+380692548448','+380687979449',\n",
    "           '+380982222154','+380449932426',\n",
    "           '+180677743900','-380444445677',\n",
    "           '+300997654445','+380677774399']\n",
    "\n",
    "for code in numbers:\n",
    "  if code[0:3]!='+38' or  len(code)!=13:\n",
    "    print(code)\n",
    "\n",
    "\n"
   ]
  }
 ],
 "metadata": {
  "interpreter": {
   "hash": "e593ac106456af50ce7af38f9671c411b49d6cd90f9b885e167f0f594e09038c"
  },
  "kernelspec": {
   "display_name": "Python 3.10.4 64-bit",
   "language": "python",
   "name": "python3"
  },
  "language_info": {
   "codemirror_mode": {
    "name": "ipython",
    "version": 3
   },
   "file_extension": ".py",
   "mimetype": "text/x-python",
   "name": "python",
   "nbconvert_exporter": "python",
   "pygments_lexer": "ipython3",
   "version": "3.10.4"
  },
  "orig_nbformat": 4
 },
 "nbformat": 4,
 "nbformat_minor": 2
}
