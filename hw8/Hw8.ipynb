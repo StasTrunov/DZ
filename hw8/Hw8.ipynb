{
 "cells": [
  {
   "cell_type": "code",
   "execution_count": 54,
   "metadata": {},
   "outputs": [
    {
     "name": "stdout",
     "output_type": "stream",
     "text": [
      "3 + 12344567808748487 = 12344567808748490\n"
     ]
    }
   ],
   "source": [
    "def summa(dodanok_1, dodanok_2):\n",
    "    return dodanok_1 + dodanok_2\n",
    "     \n",
    "def substraction(a, b):\n",
    "    return a - b\n",
    " \n",
    "def mult(a, b):\n",
    "    return a * b\n",
    "\n",
    "def div(a, b):\n",
    "    if b == 0:\n",
    "        print('На нуль делити не можно')\n",
    "\n",
    "    else:\n",
    "        return a / b\n",
    "\n",
    "def degree (a,b):\n",
    "    return a ** b\n",
    "    \n",
    "\n",
    "\n",
    "def calculate(operand_1, operand_2, operation):\n",
    "    if operation == '+':\n",
    "       result = summa(operand_1, operand_2)\n",
    "    elif operation == '-':\n",
    "       result = substraction(operand_1, operand_2)\n",
    "    elif operation == '*':\n",
    "       result = mult(operand_1, operand_2)\n",
    "    elif operation == '/':\n",
    "       result = div(operand_1, operand_2)\n",
    "    elif operation == '**':\n",
    "       result = degree(operand_1, operand_2)\n",
    "    return result\n",
    "\n",
    "\n",
    "def check_operation(operation):\n",
    "    return operation in ['+', '-', '*', '/', '**']\n",
    "\n",
    "operand_1 = int(input('Введите число A'))\n",
    "user_operation = input('Enter operation: | + | - | * | / | ** |')\n",
    "if user_operation == '**':\n",
    "    operand_2 = int(input('Введите степень'))\n",
    "else: \n",
    "  operand_2 = int(input('Введите число B'))\n",
    "\n",
    "\n",
    "if check_operation(user_operation):\n",
    "    result = calculate(operand_1, operand_2, user_operation )\n",
    "    print(operand_1, user_operation, operand_2, '=', result)\n",
    "else:\n",
    "    print('Operation not supported:', user_operation)\n",
    " \n"
   ]
  },
  {
   "cell_type": "code",
   "execution_count": 90,
   "metadata": {},
   "outputs": [
    {
     "name": "stdout",
     "output_type": "stream",
     "text": [
      "Столик заказал человек с фамилией Трунов . Количество людей 2\n",
      "Столик заказал человек с фамилией Трунов . Количество людей 1\n"
     ]
    }
   ],
   "source": [
    "def reserve(last_name, numbers):\n",
    "    print('Столик заказал человек с фамилией', last_name,'. Количество людей', numbers)\n",
    "\n",
    "last_name = input('Введите фамилию пользователя')\n",
    "numbers = int(input('Введите количество людей'))\n",
    "\n",
    "if numbers < 2:\n",
    "    reserve(last_name, 2)\n",
    "elif numbers > 20:\n",
    "    print('Столика с таким количеством мест у нас нет')\n",
    "\n",
    "reserve(last_name, numbers)\n",
    "\n",
    "\n"
   ]
  },
  {
   "cell_type": "code",
   "execution_count": 154,
   "metadata": {},
   "outputs": [
    {
     "name": "stdout",
     "output_type": "stream",
     "text": [
      "Улица Семена Челюскина, дом 6, Харьков\n"
     ]
    }
   ],
   "source": [
    "def search_departament(departament): \n",
    "    departament_list = {\n",
    "    2:  \"Улица Семена Челюскина, дом 6, Харьков\",\n",
    "    23: \"Улица Ивана Франка, 66, Одеса\",\n",
    "    10: \"Улица Героев Труда, 34, Харьков\",\n",
    "    14: \"Улица Сумгаитская, 56, Черкассы\",\n",
    "    18: \"Улица Добровльчих Батальйонов, 111'1, Черкассы\",\n",
    "    4:  \"Улица Пушкинская, 97, Киев\"\n",
    "    } \n",
    "    for i in departament_list.keys():\n",
    "      if departament == i:\n",
    "          return departament_list[i]    \n",
    "      else:\n",
    "          return 'Такого номера отделения у нас нет'\n",
    "\n",
    "number_departament = int(input('Введите номер отделения'))\n",
    "print(search_departament(number_departament))\n",
    "\n"
   ]
  }
 ],
 "metadata": {
  "kernelspec": {
   "display_name": "Python 3.10.4 64-bit",
   "language": "python",
   "name": "python3"
  },
  "language_info": {
   "codemirror_mode": {
    "name": "ipython",
    "version": 3
   },
   "file_extension": ".py",
   "mimetype": "text/x-python",
   "name": "python",
   "nbconvert_exporter": "python",
   "pygments_lexer": "ipython3",
   "version": "3.10.4"
  },
  "orig_nbformat": 4,
  "vscode": {
   "interpreter": {
    "hash": "e593ac106456af50ce7af38f9671c411b49d6cd90f9b885e167f0f594e09038c"
   }
  }
 },
 "nbformat": 4,
 "nbformat_minor": 2
}
