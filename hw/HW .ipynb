{
 "cells": [
  {
   "cell_type": "code",
   "execution_count": 6,
   "metadata": {},
   "outputs": [
    {
     "name": "stdout",
     "output_type": "stream",
     "text": [
      "Людина за прізвищем Трунов отримав 34 балів та отримав оцінку Незадовільно\n"
     ]
    }
   ],
   "source": [
    "last_name = input('Ваше прізвище')\n",
    "balls = int(input('Бали'))\n",
    "if balls > 100:\n",
    "    grade ='Такого бала не існує'\n",
    "elif balls > 94:\n",
    "    grade ='Відмінно'\n",
    "elif balls > 74:\n",
    "    grade ='Добре'\n",
    "elif balls > 60:\n",
    "    grade ='Задовільно'\n",
    "elif balls < 60:\n",
    "    grade ='Незадовільно'\n",
    "else:\n",
    "    balls < 0\n",
    "    grade ='Такого бала не існує'\n",
    "     \n",
    "\n",
    "print('Людина за прізвищем', last_name, 'отримав', balls, 'балів та отримав оцінку', grade )\n"
   ]
  },
  {
   "cell_type": "code",
   "execution_count": 21,
   "metadata": {},
   "outputs": [
    {
     "name": "stdout",
     "output_type": "stream",
     "text": [
      "Область за кодом є Харківська область\n"
     ]
    }
   ],
   "source": [
    "region_code = input('Введіть код області')\n",
    "\n",
    "\n",
    "match region_code: \n",
    "    case  'AA' | 'KA':\n",
    "        region = 'Киівська область'\n",
    "    case  'АА' | 'КА':\n",
    "        region = 'Киівська область'\n",
    "\n",
    "    case 'AE' | 'АЕ':\n",
    "        region = 'Днепропетровська область'\n",
    "\n",
    "    case 'AH' | 'АН':\n",
    "        region = 'Донецька область'\n",
    "\n",
    "    case 'AX' | 'АХ':\n",
    "        region = 'Харківська область'\n",
    "\n",
    "    case 'CA' | 'СА':\n",
    "        region = 'Черкаська область'\n",
    "\n",
    "    case 'CB' | 'СВ':\n",
    "        region = 'Чернігівська область'\n",
    "\n",
    "    case '-':\n",
    "        region = 'Невідоміша область'\n",
    "\n",
    "\n",
    "\n",
    "print('Область за кодом є', region)"
   ]
  }
 ],
 "metadata": {
  "interpreter": {
   "hash": "e593ac106456af50ce7af38f9671c411b49d6cd90f9b885e167f0f594e09038c"
  },
  "kernelspec": {
   "display_name": "Python 3.10.4 64-bit",
   "language": "python",
   "name": "python3"
  },
  "language_info": {
   "codemirror_mode": {
    "name": "ipython",
    "version": 3
   },
   "file_extension": ".py",
   "mimetype": "text/x-python",
   "name": "python",
   "nbconvert_exporter": "python",
   "pygments_lexer": "ipython3",
   "version": "3.10.4"
  },
  "orig_nbformat": 4
 },
 "nbformat": 4,
 "nbformat_minor": 2
}
