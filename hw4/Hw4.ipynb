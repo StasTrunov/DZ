{
 "cells": [
  {
   "cell_type": "code",
   "execution_count": null,
   "metadata": {},
   "outputs": [],
   "source": [
    "elements = [\n",
    "\n",
    "    ['phone', 'samsung', 11000],\n",
    "\n",
    "    ['notebook', 'sony', 28000],\n",
    "\n",
    "    ['notebook', 'hp', 35000],\n",
    "\n",
    "    ['phone', 'iphone', 27800],\n",
    "\n",
    "    ['phone', 'realme', 7000],\n",
    "\n",
    "    ['tablet', 'ipad', 20000],\n",
    "\n",
    "    ['tablet', 'samsung', 14000],\n",
    "\n",
    "    ['notebook', 'samsung', 28000]\n",
    "\n",
    "]\n",
    "\n",
    "\n",
    "element = input('Введіть тип товару')\n",
    "\n",
    "print('Всі товари данної категорії:')\n",
    "\n",
    "i=0\n",
    "\n",
    "for i in range(8):\n",
    "    if element == elements [i] [0]:\n",
    "        print(elements [i]) \n",
    "\n",
    "\n",
    "element = int(input('Введіть ціну товару'))\n",
    "\n",
    "print('Всі товари дешевше данного значення:')\n",
    "\n",
    "i=0\n",
    "\n",
    "for i in range(8):\n",
    "    if element > int(elements [i][2]):\n",
    "        print(elements [i])"
   ]
  },
  {
   "cell_type": "code",
   "execution_count": null,
   "metadata": {},
   "outputs": [],
   "source": [
    "continent_west = ['North America','South America','Eurasia','Africa','Antarktyda']\n",
    "continent_east = ['Australia']\n",
    "continent = list ()\n",
    "\n",
    "continent.extend (continent_west)\n",
    "continent.extend (continent_east)\n",
    "print (continent)\n",
    "\n",
    "continent.sort ()\n",
    "print (continent)"
   ]
  }
 ],
 "metadata": {
  "language_info": {
   "name": "python"
  },
  "orig_nbformat": 4
 },
 "nbformat": 4,
 "nbformat_minor": 2
}
